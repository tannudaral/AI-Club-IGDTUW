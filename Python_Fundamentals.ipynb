{
  "nbformat": 4,
  "nbformat_minor": 0,
  "metadata": {
    "colab": {
      "name": "Python Fundamentals",
      "provenance": [],
      "collapsed_sections": [],
      "toc_visible": true,
      "include_colab_link": true
    },
    "kernelspec": {
      "name": "python3",
      "display_name": "Python 3"
    },
    "language_info": {
      "name": "python"
    }
  },
  "cells": [
    {
      "cell_type": "markdown",
      "metadata": {
        "id": "view-in-github",
        "colab_type": "text"
      },
      "source": [
        "<a href=\"https://colab.research.google.com/github/tannudaral/AI-Club-IGDTUW/blob/main/Python_Fundamentals.ipynb\" target=\"_parent\"><img src=\"https://colab.research.google.com/assets/colab-badge.svg\" alt=\"Open In Colab\"/></a>"
      ]
    },
    {
      "cell_type": "code",
      "metadata": {
        "colab": {
          "base_uri": "https://localhost:8080/"
        },
        "id": "wqDQGtBqyaKd",
        "outputId": "693f6809-738c-4ca0-f27c-4f66863906cb"
      },
      "source": [
        "# printing\n",
        "# Run Cell : shift + enter\n",
        "\n",
        "print(\"Hello Students!\")"
      ],
      "execution_count": null,
      "outputs": [
        {
          "output_type": "stream",
          "text": [
            "Hello Students!\n"
          ],
          "name": "stdout"
        }
      ]
    },
    {
      "cell_type": "code",
      "metadata": {
        "id": "3ffFGF7Nz_iM"
      },
      "source": [
        "# variables\n",
        "\n",
        "i = 10"
      ],
      "execution_count": null,
      "outputs": []
    },
    {
      "cell_type": "code",
      "metadata": {
        "colab": {
          "base_uri": "https://localhost:8080/"
        },
        "id": "z6cyV1ME0MHo",
        "outputId": "ab75159b-6255-41df-81f9-afe67a1dadb0"
      },
      "source": [
        "print(i)"
      ],
      "execution_count": null,
      "outputs": [
        {
          "output_type": "stream",
          "text": [
            "10\n"
          ],
          "name": "stdout"
        }
      ]
    },
    {
      "cell_type": "code",
      "metadata": {
        "colab": {
          "base_uri": "https://localhost:8080/"
        },
        "id": "lvL-zbg60SQu",
        "outputId": "adb4b037-f727-49b9-95ea-7de398d9bd1b"
      },
      "source": [
        "# it will tell you the data type\n",
        "type(i)"
      ],
      "execution_count": null,
      "outputs": [
        {
          "output_type": "execute_result",
          "data": {
            "text/plain": [
              "int"
            ]
          },
          "metadata": {
            "tags": []
          },
          "execution_count": 5
        }
      ]
    },
    {
      "cell_type": "code",
      "metadata": {
        "id": "2JcY1n6Y0i80"
      },
      "source": [
        "# changing variable from int to string\n",
        "i = 5.98"
      ],
      "execution_count": null,
      "outputs": []
    },
    {
      "cell_type": "code",
      "metadata": {
        "colab": {
          "base_uri": "https://localhost:8080/"
        },
        "id": "aVmYAiRV0ydv",
        "outputId": "5140072d-05a6-4631-8fba-873881576520"
      },
      "source": [
        "print(i)"
      ],
      "execution_count": null,
      "outputs": [
        {
          "output_type": "stream",
          "text": [
            "5.98\n"
          ],
          "name": "stdout"
        }
      ]
    },
    {
      "cell_type": "code",
      "metadata": {
        "colab": {
          "base_uri": "https://localhost:8080/"
        },
        "id": "AWrgwKFR01BI",
        "outputId": "afe6ba8e-dda0-4666-f603-7627f425f252"
      },
      "source": [
        "type(i)"
      ],
      "execution_count": null,
      "outputs": [
        {
          "output_type": "execute_result",
          "data": {
            "text/plain": [
              "float"
            ]
          },
          "metadata": {
            "tags": []
          },
          "execution_count": 11
        }
      ]
    },
    {
      "cell_type": "markdown",
      "metadata": {
        "id": "Nnp4iIWs1DT7"
      },
      "source": [
        "## Control Flow"
      ]
    },
    {
      "cell_type": "code",
      "metadata": {
        "colab": {
          "base_uri": "https://localhost:8080/"
        },
        "id": "lJHHilRm1CTO",
        "outputId": "19150709-096e-4e5f-81c8-f147cb81877e"
      },
      "source": [
        "# If else and elif\n",
        "\n",
        "age  = 24\n",
        "\n",
        "if(age>=18):\n",
        "    print(\"You are eligible to vote.\")\n",
        "    print(\"I'm inside if block\")\n",
        "elif(age<5):\n",
        "    print(\"Grow up first.\")\n",
        "else:\n",
        "    print(\"Go home kid.\")\n",
        "    print(\"I'm inside else\")\n"
      ],
      "execution_count": null,
      "outputs": [
        {
          "output_type": "stream",
          "text": [
            "You are eligible to vote.\n",
            "I'm inside if block\n"
          ],
          "name": "stdout"
        }
      ]
    },
    {
      "cell_type": "code",
      "metadata": {
        "colab": {
          "base_uri": "https://localhost:8080/"
        },
        "id": "GMV-OzKw1CIc",
        "outputId": "4b954ece-2a0f-4427-d972-c6ee3a786d5e"
      },
      "source": [
        "# while loop, \n",
        "i = 0\n",
        "\n",
        "while(i<=10):\n",
        "    print(i, end=\", \")\n",
        "    i+=1"
      ],
      "execution_count": null,
      "outputs": [
        {
          "output_type": "stream",
          "text": [
            "0, 1, 2, 3, 4, 5, 6, 7, 8, 9, 10, "
          ],
          "name": "stdout"
        }
      ]
    },
    {
      "cell_type": "code",
      "metadata": {
        "colab": {
          "base_uri": "https://localhost:8080/"
        },
        "id": "DhKVLVTa1CB2",
        "outputId": "4446c6a4-75d0-4dc2-87e1-52a050036477"
      },
      "source": [
        "# printing all the even numbers between 3 and 19\n",
        "# for in loop\n",
        "for ele in range(3, 19):\n",
        "    if (ele%2==0):\n",
        "        print(ele, end=\" \")"
      ],
      "execution_count": null,
      "outputs": [
        {
          "output_type": "stream",
          "text": [
            "4 6 8 10 12 14 16 18 "
          ],
          "name": "stdout"
        }
      ]
    },
    {
      "cell_type": "code",
      "metadata": {
        "id": "4FU8W0rrXwue"
      },
      "source": [
        "# function\n",
        "\n",
        "def greeting(name):\n",
        "    \n",
        "    return \"Good Morning \" + name"
      ],
      "execution_count": null,
      "outputs": []
    },
    {
      "cell_type": "code",
      "metadata": {
        "id": "qvqeD7uFX3Tk"
      },
      "source": [
        "data = greeting(\"Muskaan\")"
      ],
      "execution_count": null,
      "outputs": []
    },
    {
      "cell_type": "code",
      "metadata": {
        "colab": {
          "base_uri": "https://localhost:8080/"
        },
        "id": "U7sLNDlgX8bl",
        "outputId": "bdf02c99-bc61-477a-d2b4-e415e2e30928"
      },
      "source": [
        "print(data)"
      ],
      "execution_count": null,
      "outputs": [
        {
          "output_type": "stream",
          "text": [
            "Good Morning Muskaan\n"
          ],
          "name": "stdout"
        }
      ]
    },
    {
      "cell_type": "code",
      "metadata": {
        "id": "HcP8gt6sFDwP"
      },
      "source": [
        "def calculator(a,b):\n",
        "    print(a+b)\n",
        "    print(a-b)\n",
        "    print(a*b)\n",
        "    print(a/b)"
      ],
      "execution_count": null,
      "outputs": []
    },
    {
      "cell_type": "code",
      "metadata": {
        "colab": {
          "base_uri": "https://localhost:8080/"
        },
        "id": "dEcJtLIlFLRY",
        "outputId": "0ae24293-4f0c-46e5-a3e9-9e24bbd2395f"
      },
      "source": [
        "calculator(5, 3)"
      ],
      "execution_count": null,
      "outputs": [
        {
          "output_type": "stream",
          "text": [
            "8\n",
            "2\n",
            "15\n",
            "1.6666666666666667\n"
          ],
          "name": "stdout"
        }
      ]
    },
    {
      "cell_type": "markdown",
      "metadata": {
        "id": "sd52DHpm3hpg"
      },
      "source": [
        "# Python In-built Data Structures\n",
        "- list\n",
        "- tuple\n",
        "- set\n",
        "- dictonary"
      ]
    },
    {
      "cell_type": "code",
      "metadata": {
        "id": "U0-37LkD1B96"
      },
      "source": [
        "lst = [5,7,2,9,10,8]"
      ],
      "execution_count": null,
      "outputs": []
    },
    {
      "cell_type": "code",
      "metadata": {
        "colab": {
          "base_uri": "https://localhost:8080/"
        },
        "id": "cvNHew1s3Vcs",
        "outputId": "3055faeb-dcd3-4db4-d55e-ce5b822e4924"
      },
      "source": [
        "print(lst)"
      ],
      "execution_count": null,
      "outputs": [
        {
          "output_type": "stream",
          "text": [
            "[5, 7, 2, 9, 10, 8]\n"
          ],
          "name": "stdout"
        }
      ]
    },
    {
      "cell_type": "code",
      "metadata": {
        "colab": {
          "base_uri": "https://localhost:8080/"
        },
        "id": "t42HJOAA3VY1",
        "outputId": "3f01d0ea-f181-45e4-833e-4feb684f78ad"
      },
      "source": [
        "type(lst)"
      ],
      "execution_count": null,
      "outputs": [
        {
          "output_type": "execute_result",
          "data": {
            "text/plain": [
              "list"
            ]
          },
          "metadata": {
            "tags": []
          },
          "execution_count": 30
        }
      ]
    },
    {
      "cell_type": "code",
      "metadata": {
        "colab": {
          "base_uri": "https://localhost:8080/"
        },
        "id": "qf-wpAIV1B35",
        "outputId": "70d864a6-5d60-40a4-d2e1-094dbf12fdbd"
      },
      "source": [
        "# accessing/indexing elements\n",
        "print( lst[0] )\n",
        "print( lst[3] )"
      ],
      "execution_count": null,
      "outputs": [
        {
          "output_type": "stream",
          "text": [
            "5\n",
            "9\n"
          ],
          "name": "stdout"
        }
      ]
    },
    {
      "cell_type": "code",
      "metadata": {
        "colab": {
          "base_uri": "https://localhost:8080/"
        },
        "id": "t6G3AhUt1Bwx",
        "outputId": "f445aedb-8333-49e1-c951-dfbf8ae02d2b"
      },
      "source": [
        "print( len(lst) )"
      ],
      "execution_count": null,
      "outputs": [
        {
          "output_type": "stream",
          "text": [
            "6\n"
          ],
          "name": "stdout"
        }
      ]
    },
    {
      "cell_type": "code",
      "metadata": {
        "colab": {
          "base_uri": "https://localhost:8080/"
        },
        "id": "EYULo9c81Bre",
        "outputId": "44365521-6119-4052-900c-b60dd561665f"
      },
      "source": [
        "print( lst[len(lst) -1 ] )"
      ],
      "execution_count": null,
      "outputs": [
        {
          "output_type": "stream",
          "text": [
            "8\n"
          ],
          "name": "stdout"
        }
      ]
    },
    {
      "cell_type": "code",
      "metadata": {
        "colab": {
          "base_uri": "https://localhost:8080/"
        },
        "id": "7wHhFM5B05fk",
        "outputId": "c6878684-cf5b-4541-8b7d-3c9ed64ffc96"
      },
      "source": [
        "# negative indexing\n",
        "print( lst[-1] )"
      ],
      "execution_count": null,
      "outputs": [
        {
          "output_type": "stream",
          "text": [
            "8\n"
          ],
          "name": "stdout"
        }
      ]
    },
    {
      "cell_type": "code",
      "metadata": {
        "colab": {
          "base_uri": "https://localhost:8080/"
        },
        "id": "SvM_nfmS5HRp",
        "outputId": "c8da70c3-85e0-4cf9-b228-a821251e98be"
      },
      "source": [
        "print(lst)"
      ],
      "execution_count": null,
      "outputs": [
        {
          "output_type": "stream",
          "text": [
            "[5, 7, 2, 9, 10, 8]\n"
          ],
          "name": "stdout"
        }
      ]
    },
    {
      "cell_type": "code",
      "metadata": {
        "id": "4wJRK8rR5HNQ"
      },
      "source": [
        "# changing elements in a list\n",
        "lst[0] = 50"
      ],
      "execution_count": null,
      "outputs": []
    },
    {
      "cell_type": "code",
      "metadata": {
        "colab": {
          "base_uri": "https://localhost:8080/"
        },
        "id": "uljxIC4T5HJS",
        "outputId": "c8195974-dbc0-444f-add2-f38d1e7a26ff"
      },
      "source": [
        "print(lst)"
      ],
      "execution_count": null,
      "outputs": [
        {
          "output_type": "stream",
          "text": [
            "[50, 7, 2, 9, 10, 8]\n"
          ],
          "name": "stdout"
        }
      ]
    },
    {
      "cell_type": "code",
      "metadata": {
        "id": "urtG2qiLGwm2"
      },
      "source": [
        ""
      ],
      "execution_count": null,
      "outputs": []
    },
    {
      "cell_type": "code",
      "metadata": {
        "id": "PA63ZjuY4yCC"
      },
      "source": [
        "lst.append(200)"
      ],
      "execution_count": null,
      "outputs": []
    },
    {
      "cell_type": "code",
      "metadata": {
        "colab": {
          "base_uri": "https://localhost:8080/"
        },
        "id": "49DFS8cx4x5B",
        "outputId": "8244c844-487f-469f-cd8a-94528f7e7041"
      },
      "source": [
        "print(lst)"
      ],
      "execution_count": null,
      "outputs": [
        {
          "output_type": "stream",
          "text": [
            "[50, 7, 2, 9, 10, 8, 100, 200]\n"
          ],
          "name": "stdout"
        }
      ]
    },
    {
      "cell_type": "code",
      "metadata": {
        "id": "SMBjVRzx4xyl"
      },
      "source": [
        "lst.insert(2, 99)"
      ],
      "execution_count": null,
      "outputs": []
    },
    {
      "cell_type": "code",
      "metadata": {
        "colab": {
          "base_uri": "https://localhost:8080/"
        },
        "id": "jaz57lMZ5vLp",
        "outputId": "16bf00db-b0be-4d3f-aec4-ab5946fb483c"
      },
      "source": [
        "print(lst)"
      ],
      "execution_count": null,
      "outputs": [
        {
          "output_type": "stream",
          "text": [
            "[50, 7, 99, 2, 9, 10, 8, 100, 200]\n"
          ],
          "name": "stdout"
        }
      ]
    },
    {
      "cell_type": "code",
      "metadata": {
        "colab": {
          "base_uri": "https://localhost:8080/"
        },
        "id": "wWxlwhXs5wOU",
        "outputId": "84facc7c-91c4-4f23-e143-d56e3988d5fc"
      },
      "source": [
        "lst.pop()"
      ],
      "execution_count": null,
      "outputs": [
        {
          "output_type": "execute_result",
          "data": {
            "text/plain": [
              "200"
            ]
          },
          "metadata": {
            "tags": []
          },
          "execution_count": 44
        }
      ]
    },
    {
      "cell_type": "code",
      "metadata": {
        "colab": {
          "base_uri": "https://localhost:8080/"
        },
        "id": "y-paEBIV56KQ",
        "outputId": "a7fc6eb4-768e-4557-9caf-d17f299e2f6d"
      },
      "source": [
        "print(lst)"
      ],
      "execution_count": null,
      "outputs": [
        {
          "output_type": "stream",
          "text": [
            "[50, 7, 99, 2, 9, 10, 8, 100]\n"
          ],
          "name": "stdout"
        }
      ]
    },
    {
      "cell_type": "code",
      "metadata": {
        "id": "fix7D0rI583J"
      },
      "source": [
        "lst.sort()"
      ],
      "execution_count": null,
      "outputs": []
    },
    {
      "cell_type": "code",
      "metadata": {
        "colab": {
          "base_uri": "https://localhost:8080/"
        },
        "id": "a2jUlcP96AcT",
        "outputId": "869b0bb2-e54a-49ab-9f7e-e95911abfcb0"
      },
      "source": [
        "print(lst)"
      ],
      "execution_count": null,
      "outputs": [
        {
          "output_type": "stream",
          "text": [
            "[2, 7, 8, 9, 10, 50, 99, 100]\n"
          ],
          "name": "stdout"
        }
      ]
    },
    {
      "cell_type": "code",
      "metadata": {
        "colab": {
          "base_uri": "https://localhost:8080/"
        },
        "id": "l5wPsEtKYCZf",
        "outputId": "e729288a-e4d5-4256-fcef-b303a7a40653"
      },
      "source": [
        "# list slicing\n",
        "# Syntax : lst[start_idx : end_idx + 1]\n",
        "\n",
        "print( lst[2:6] )\n",
        "print( lst[:] ) # complete list\n",
        "print( lst[:-1] )\n",
        "print( lst[1:-1] )"
      ],
      "execution_count": null,
      "outputs": [
        {
          "output_type": "stream",
          "text": [
            "[8, 9, 10, 50]\n",
            "[2, 7, 8, 9, 10, 50, 99, 100]\n",
            "[2, 7, 8, 9, 10, 50, 99]\n",
            "[7, 8, 9, 10, 50, 99]\n"
          ],
          "name": "stdout"
        }
      ]
    },
    {
      "cell_type": "code",
      "metadata": {
        "id": "4aLkEc0R6Bmh"
      },
      "source": [
        "# heterogenous list\n",
        "lst_new = [\"Hello world\",  5, 9, 100, [10,20, 30], True, 9.86 ]"
      ],
      "execution_count": null,
      "outputs": []
    },
    {
      "cell_type": "code",
      "metadata": {
        "colab": {
          "base_uri": "https://localhost:8080/"
        },
        "id": "e2VqMp5w6ajE",
        "outputId": "232dc59b-265a-4d77-deb6-f82dbcc2a439"
      },
      "source": [
        "print(lst_new)"
      ],
      "execution_count": null,
      "outputs": [
        {
          "output_type": "stream",
          "text": [
            "['Hello world', 5, 9, 100, [10, 20, 30], True, 9.86]\n"
          ],
          "name": "stdout"
        }
      ]
    },
    {
      "cell_type": "code",
      "metadata": {
        "colab": {
          "base_uri": "https://localhost:8080/"
        },
        "id": "osM0rdb86bmN",
        "outputId": "1211bf6e-1cd2-4a35-b87a-6ce000b4429d"
      },
      "source": [
        "type(lst_new)"
      ],
      "execution_count": null,
      "outputs": [
        {
          "output_type": "execute_result",
          "data": {
            "text/plain": [
              "list"
            ]
          },
          "metadata": {
            "tags": []
          },
          "execution_count": 52
        }
      ]
    },
    {
      "cell_type": "code",
      "metadata": {
        "colab": {
          "base_uri": "https://localhost:8080/"
        },
        "id": "2mXI7ySV6d7A",
        "outputId": "f330db62-4292-46ca-be5e-4f76b4a8e1f2"
      },
      "source": [
        "for ele in lst_new:\n",
        "    print(ele*2)"
      ],
      "execution_count": null,
      "outputs": [
        {
          "output_type": "stream",
          "text": [
            "Hello worldHello world\n",
            "10\n",
            "18\n",
            "200\n",
            "[10, 20, 30, 10, 20, 30]\n",
            "2\n",
            "19.72\n"
          ],
          "name": "stdout"
        }
      ]
    },
    {
      "cell_type": "code",
      "metadata": {
        "colab": {
          "base_uri": "https://localhost:8080/",
          "height": 165
        },
        "id": "KIZWnMwOJTxu",
        "outputId": "e4e27567-dd39-4744-d34a-79835c19696a"
      },
      "source": [
        "lst_new.sort()"
      ],
      "execution_count": null,
      "outputs": [
        {
          "output_type": "error",
          "ename": "TypeError",
          "evalue": "ignored",
          "traceback": [
            "\u001b[0;31m---------------------------------------------------------------------------\u001b[0m",
            "\u001b[0;31mTypeError\u001b[0m                                 Traceback (most recent call last)",
            "\u001b[0;32m<ipython-input-55-0623bc8a45d2>\u001b[0m in \u001b[0;36m<module>\u001b[0;34m()\u001b[0m\n\u001b[0;32m----> 1\u001b[0;31m \u001b[0mlst_new\u001b[0m\u001b[0;34m.\u001b[0m\u001b[0msort\u001b[0m\u001b[0;34m(\u001b[0m\u001b[0;34m)\u001b[0m\u001b[0;34m\u001b[0m\u001b[0;34m\u001b[0m\u001b[0m\n\u001b[0m",
            "\u001b[0;31mTypeError\u001b[0m: '<' not supported between instances of 'int' and 'str'"
          ]
        }
      ]
    },
    {
      "cell_type": "code",
      "metadata": {
        "id": "PSGUdmiT6nCg"
      },
      "source": [
        "tup = (8,2,5,10,3)"
      ],
      "execution_count": null,
      "outputs": []
    },
    {
      "cell_type": "code",
      "metadata": {
        "colab": {
          "base_uri": "https://localhost:8080/"
        },
        "id": "pLXdgm8B7Tou",
        "outputId": "695fc231-d7ad-4ad7-b51b-f28ad4dba7d2"
      },
      "source": [
        "print(tup)"
      ],
      "execution_count": null,
      "outputs": [
        {
          "output_type": "stream",
          "text": [
            "(8, 2, 5, 10, 3)\n"
          ],
          "name": "stdout"
        }
      ]
    },
    {
      "cell_type": "code",
      "metadata": {
        "colab": {
          "base_uri": "https://localhost:8080/"
        },
        "id": "nrC0TiHm7Ul8",
        "outputId": "4563c771-03e2-46dd-e92d-61b50c8911e2"
      },
      "source": [
        "type(tup)"
      ],
      "execution_count": null,
      "outputs": [
        {
          "output_type": "execute_result",
          "data": {
            "text/plain": [
              "tuple"
            ]
          },
          "metadata": {
            "tags": []
          },
          "execution_count": 58
        }
      ]
    },
    {
      "cell_type": "code",
      "metadata": {
        "colab": {
          "base_uri": "https://localhost:8080/"
        },
        "id": "lqW_kT-H7VXB",
        "outputId": "37cfb05c-c76b-4d6c-89ff-9c835bb1c833"
      },
      "source": [
        "# indexing/accesing\n",
        "print( tup[0] )\n",
        "print( tup[-1] )\n",
        "print( tup[1:4] )"
      ],
      "execution_count": null,
      "outputs": [
        {
          "output_type": "stream",
          "text": [
            "8\n",
            "3\n",
            "(2, 5, 10)\n"
          ],
          "name": "stdout"
        }
      ]
    },
    {
      "cell_type": "code",
      "metadata": {
        "colab": {
          "base_uri": "https://localhost:8080/",
          "height": 165
        },
        "id": "H0vIBSzp7YJr",
        "outputId": "93f9e2d7-4ab1-4e61-e7cf-218226bf7caf"
      },
      "source": [
        "tup[0] = 80"
      ],
      "execution_count": null,
      "outputs": [
        {
          "output_type": "error",
          "ename": "TypeError",
          "evalue": "ignored",
          "traceback": [
            "\u001b[0;31m---------------------------------------------------------------------------\u001b[0m",
            "\u001b[0;31mTypeError\u001b[0m                                 Traceback (most recent call last)",
            "\u001b[0;32m<ipython-input-61-cd3083eb1b41>\u001b[0m in \u001b[0;36m<module>\u001b[0;34m()\u001b[0m\n\u001b[0;32m----> 1\u001b[0;31m \u001b[0mtup\u001b[0m\u001b[0;34m[\u001b[0m\u001b[0;36m0\u001b[0m\u001b[0;34m]\u001b[0m \u001b[0;34m=\u001b[0m \u001b[0;36m80\u001b[0m\u001b[0;34m\u001b[0m\u001b[0;34m\u001b[0m\u001b[0m\n\u001b[0m",
            "\u001b[0;31mTypeError\u001b[0m: 'tuple' object does not support item assignment"
          ]
        }
      ]
    },
    {
      "cell_type": "code",
      "metadata": {
        "id": "qeAWqFFR7e6U"
      },
      "source": [
        "# creating a set\n",
        "s = {7,3,2,6,1,8,7,3,5,1,0,19}"
      ],
      "execution_count": null,
      "outputs": []
    },
    {
      "cell_type": "code",
      "metadata": {
        "colab": {
          "base_uri": "https://localhost:8080/"
        },
        "id": "pjNy3r9-8Kh2",
        "outputId": "6087de18-06b2-47e3-b186-1bd0aca40bf3"
      },
      "source": [
        "print(s)"
      ],
      "execution_count": null,
      "outputs": [
        {
          "output_type": "stream",
          "text": [
            "{0, 1, 2, 3, 5, 6, 7, 8, 19}\n"
          ],
          "name": "stdout"
        }
      ]
    },
    {
      "cell_type": "code",
      "metadata": {
        "colab": {
          "base_uri": "https://localhost:8080/"
        },
        "id": "VJSFYKPY8LO3",
        "outputId": "da9d4268-e6cc-4cb9-f994-f6a0b0a3b8da"
      },
      "source": [
        "type(s)"
      ],
      "execution_count": null,
      "outputs": [
        {
          "output_type": "execute_result",
          "data": {
            "text/plain": [
              "set"
            ]
          },
          "metadata": {
            "tags": []
          },
          "execution_count": 64
        }
      ]
    },
    {
      "cell_type": "code",
      "metadata": {
        "colab": {
          "base_uri": "https://localhost:8080/",
          "height": 183
        },
        "id": "5FwA0HoF8Udm",
        "outputId": "b7ae83cb-ae14-42f3-e5cd-8ac45397b555"
      },
      "source": [
        "# not indexable\n",
        "print( s[0] )"
      ],
      "execution_count": null,
      "outputs": [
        {
          "output_type": "error",
          "ename": "TypeError",
          "evalue": "ignored",
          "traceback": [
            "\u001b[0;31m---------------------------------------------------------------------------\u001b[0m",
            "\u001b[0;31mTypeError\u001b[0m                                 Traceback (most recent call last)",
            "\u001b[0;32m<ipython-input-65-ca6e483980cf>\u001b[0m in \u001b[0;36m<module>\u001b[0;34m()\u001b[0m\n\u001b[1;32m      1\u001b[0m \u001b[0;31m# not indexable\u001b[0m\u001b[0;34m\u001b[0m\u001b[0;34m\u001b[0m\u001b[0;34m\u001b[0m\u001b[0m\n\u001b[0;32m----> 2\u001b[0;31m \u001b[0mprint\u001b[0m\u001b[0;34m(\u001b[0m \u001b[0ms\u001b[0m\u001b[0;34m[\u001b[0m\u001b[0;36m0\u001b[0m\u001b[0;34m]\u001b[0m \u001b[0;34m)\u001b[0m\u001b[0;34m\u001b[0m\u001b[0;34m\u001b[0m\u001b[0m\n\u001b[0m",
            "\u001b[0;31mTypeError\u001b[0m: 'set' object is not subscriptable"
          ]
        }
      ]
    },
    {
      "cell_type": "code",
      "metadata": {
        "id": "ufAw7iq18WdX"
      },
      "source": [
        "s2 = {1, 5, 7, 13, 15, 8, 2, 5 }"
      ],
      "execution_count": null,
      "outputs": []
    },
    {
      "cell_type": "code",
      "metadata": {
        "colab": {
          "base_uri": "https://localhost:8080/"
        },
        "id": "05zhtFuC8ndm",
        "outputId": "beb07859-8395-4f20-fdea-d2119e64c4f6"
      },
      "source": [
        "print(s)\n",
        "print(s2)"
      ],
      "execution_count": null,
      "outputs": [
        {
          "output_type": "stream",
          "text": [
            "{0, 1, 2, 3, 5, 6, 7, 8, 19}\n",
            "{1, 2, 5, 7, 8, 13, 15}\n"
          ],
          "name": "stdout"
        }
      ]
    },
    {
      "cell_type": "code",
      "metadata": {
        "colab": {
          "base_uri": "https://localhost:8080/"
        },
        "id": "jjQwcDCV8oTr",
        "outputId": "5c0347f3-d05a-4880-a0ee-2fc8128945b6"
      },
      "source": [
        "s.union(s2)"
      ],
      "execution_count": null,
      "outputs": [
        {
          "output_type": "execute_result",
          "data": {
            "text/plain": [
              "{0, 1, 2, 3, 5, 6, 7, 8, 13, 15, 19}"
            ]
          },
          "metadata": {
            "tags": []
          },
          "execution_count": 68
        }
      ]
    },
    {
      "cell_type": "code",
      "metadata": {
        "colab": {
          "base_uri": "https://localhost:8080/"
        },
        "id": "tpeUd4_D83UP",
        "outputId": "19f019d1-2d00-4776-8d20-b34a776d20d6"
      },
      "source": [
        "s.intersection(s2)"
      ],
      "execution_count": null,
      "outputs": [
        {
          "output_type": "execute_result",
          "data": {
            "text/plain": [
              "{1, 2, 5, 7, 8}"
            ]
          },
          "metadata": {
            "tags": []
          },
          "execution_count": 69
        }
      ]
    },
    {
      "cell_type": "code",
      "metadata": {
        "colab": {
          "base_uri": "https://localhost:8080/"
        },
        "id": "2KJHD9kJ867d",
        "outputId": "4471deff-0539-4b44-fb1a-e49abec83c80"
      },
      "source": [
        "s.difference(s2)"
      ],
      "execution_count": null,
      "outputs": [
        {
          "output_type": "execute_result",
          "data": {
            "text/plain": [
              "{0, 3, 6, 19}"
            ]
          },
          "metadata": {
            "tags": []
          },
          "execution_count": 70
        }
      ]
    },
    {
      "cell_type": "code",
      "metadata": {
        "id": "WX7_zzCq89FD"
      },
      "source": [
        "# ==================\n",
        "#   Dictionary\n",
        "# ==================\n",
        "\n",
        "# key : value\n",
        "\n",
        "canteen_menu = {\n",
        "    \"samosa\" : 10,\n",
        "    \"pizza\" : 100,\n",
        "    \"burger\" : 25\n",
        "} "
      ],
      "execution_count": null,
      "outputs": []
    },
    {
      "cell_type": "code",
      "metadata": {
        "colab": {
          "base_uri": "https://localhost:8080/"
        },
        "id": "SrmqNlT7909t",
        "outputId": "9b1967aa-7b3b-4534-ce53-33ed57dca02c"
      },
      "source": [
        "print(canteen_menu)"
      ],
      "execution_count": null,
      "outputs": [
        {
          "output_type": "stream",
          "text": [
            "{'samosa': 10, 'pizza': 100, 'burger': 25}\n"
          ],
          "name": "stdout"
        }
      ]
    },
    {
      "cell_type": "code",
      "metadata": {
        "colab": {
          "base_uri": "https://localhost:8080/"
        },
        "id": "MHP_yWHY92Z9",
        "outputId": "eb8e4a16-c29e-44f7-b895-d98c289cb6de"
      },
      "source": [
        "type(canteen_menu)"
      ],
      "execution_count": null,
      "outputs": [
        {
          "output_type": "execute_result",
          "data": {
            "text/plain": [
              "dict"
            ]
          },
          "metadata": {
            "tags": []
          },
          "execution_count": 73
        }
      ]
    },
    {
      "cell_type": "code",
      "metadata": {
        "colab": {
          "base_uri": "https://localhost:8080/"
        },
        "id": "wxZ-edCK-Bul",
        "outputId": "e27db454-43d9-4ec8-e557-09013a814d7f"
      },
      "source": [
        "canteen_menu['pizza']"
      ],
      "execution_count": null,
      "outputs": [
        {
          "output_type": "execute_result",
          "data": {
            "text/plain": [
              "100"
            ]
          },
          "metadata": {
            "tags": []
          },
          "execution_count": 75
        }
      ]
    },
    {
      "cell_type": "code",
      "metadata": {
        "colab": {
          "base_uri": "https://localhost:8080/"
        },
        "id": "BssgyIWL-H6P",
        "outputId": "6edba3d7-f424-4172-a626-3f1dd2cd795e"
      },
      "source": [
        "canteen_menu['burger']"
      ],
      "execution_count": null,
      "outputs": [
        {
          "output_type": "execute_result",
          "data": {
            "text/plain": [
              "25"
            ]
          },
          "metadata": {
            "tags": []
          },
          "execution_count": 76
        }
      ]
    },
    {
      "cell_type": "code",
      "metadata": {
        "colab": {
          "base_uri": "https://localhost:8080/",
          "height": 165
        },
        "id": "htOfEKjz-KHv",
        "outputId": "f8559e29-d549-4290-b2d7-9dbae39f0616"
      },
      "source": [
        "canteen_menu['fruits']"
      ],
      "execution_count": null,
      "outputs": [
        {
          "output_type": "error",
          "ename": "KeyError",
          "evalue": "ignored",
          "traceback": [
            "\u001b[0;31m---------------------------------------------------------------------------\u001b[0m",
            "\u001b[0;31mKeyError\u001b[0m                                  Traceback (most recent call last)",
            "\u001b[0;32m<ipython-input-77-bd514bb3b51e>\u001b[0m in \u001b[0;36m<module>\u001b[0;34m()\u001b[0m\n\u001b[0;32m----> 1\u001b[0;31m \u001b[0mcanteen_menu\u001b[0m\u001b[0;34m[\u001b[0m\u001b[0;34m'fruits'\u001b[0m\u001b[0;34m]\u001b[0m\u001b[0;34m\u001b[0m\u001b[0;34m\u001b[0m\u001b[0m\n\u001b[0m",
            "\u001b[0;31mKeyError\u001b[0m: 'fruits'"
          ]
        }
      ]
    },
    {
      "cell_type": "code",
      "metadata": {
        "id": "wngvjFBk-OZ2"
      },
      "source": [
        "# add elements\n",
        "canteen_menu['fruits'] = 40"
      ],
      "execution_count": null,
      "outputs": []
    },
    {
      "cell_type": "code",
      "metadata": {
        "colab": {
          "base_uri": "https://localhost:8080/"
        },
        "id": "vU8pEBK8-UEx",
        "outputId": "5febe2e9-f29f-421a-9bb1-0c93eed5e7c6"
      },
      "source": [
        "print(canteen_menu)"
      ],
      "execution_count": null,
      "outputs": [
        {
          "output_type": "stream",
          "text": [
            "{'samosa': 10, 'pizza': 100, 'burger': 25, 'fruits': 40}\n"
          ],
          "name": "stdout"
        }
      ]
    },
    {
      "cell_type": "code",
      "metadata": {
        "colab": {
          "base_uri": "https://localhost:8080/"
        },
        "id": "IL0ta9j3-VSJ",
        "outputId": "fa1caf39-fb9b-4f1b-88a8-26bdea22ae48"
      },
      "source": [
        "canteen_menu['fruits']"
      ],
      "execution_count": null,
      "outputs": [
        {
          "output_type": "execute_result",
          "data": {
            "text/plain": [
              "40"
            ]
          },
          "metadata": {
            "tags": []
          },
          "execution_count": 80
        }
      ]
    },
    {
      "cell_type": "code",
      "metadata": {
        "id": "pE7QarRd-X6I"
      },
      "source": [
        "canteen_menu['juice'] = {'S' : 20, 'M' : 40, 'L' : 50}"
      ],
      "execution_count": null,
      "outputs": []
    },
    {
      "cell_type": "code",
      "metadata": {
        "colab": {
          "base_uri": "https://localhost:8080/"
        },
        "id": "PA0wahwe-lU1",
        "outputId": "08f6fcd5-284a-45bd-bb8b-e8dbd6d39459"
      },
      "source": [
        "print(canteen_menu)"
      ],
      "execution_count": null,
      "outputs": [
        {
          "output_type": "stream",
          "text": [
            "{'samosa': 10, 'pizza': 100, 'burger': 25, 'fruits': 40, 'juice': {'S': 20, 'M': 40, 'L': 50}}\n"
          ],
          "name": "stdout"
        }
      ]
    },
    {
      "cell_type": "code",
      "metadata": {
        "colab": {
          "base_uri": "https://localhost:8080/"
        },
        "id": "iu2iz2Sd-vAZ",
        "outputId": "e7daa429-9c9f-439c-b9d6-98b670d2597d"
      },
      "source": [
        "# nested dictionaries\n",
        "canteen_menu['juice']['M']"
      ],
      "execution_count": null,
      "outputs": [
        {
          "output_type": "execute_result",
          "data": {
            "text/plain": [
              "40"
            ]
          },
          "metadata": {
            "tags": []
          },
          "execution_count": 84
        }
      ]
    },
    {
      "cell_type": "code",
      "metadata": {
        "colab": {
          "base_uri": "https://localhost:8080/"
        },
        "id": "5XvACehd-2RN",
        "outputId": "adf9fdfd-7df6-43cd-ecaa-cdb9801a76fa"
      },
      "source": [
        "canteen_menu.keys()"
      ],
      "execution_count": null,
      "outputs": [
        {
          "output_type": "execute_result",
          "data": {
            "text/plain": [
              "dict_keys(['samosa', 'pizza', 'burger', 'fruits', 'juice'])"
            ]
          },
          "metadata": {
            "tags": []
          },
          "execution_count": 85
        }
      ]
    },
    {
      "cell_type": "code",
      "metadata": {
        "colab": {
          "base_uri": "https://localhost:8080/"
        },
        "id": "EplaaHhN_Hd4",
        "outputId": "02d5a476-e6ff-45df-a336-62d91ef1384e"
      },
      "source": [
        "for ele in canteen_menu.items():\n",
        "    print(ele)"
      ],
      "execution_count": null,
      "outputs": [
        {
          "output_type": "stream",
          "text": [
            "('samosa', 10)\n",
            "('pizza', 100)\n",
            "('burger', 25)\n",
            "('fruits', 40)\n",
            "('juice', {'S': 20, 'M': 40, 'L': 50})\n"
          ],
          "name": "stdout"
        }
      ]
    },
    {
      "cell_type": "code",
      "metadata": {
        "colab": {
          "base_uri": "https://localhost:8080/"
        },
        "id": "e1uFTSo-Xggf",
        "outputId": "d4dd1b74-f476-4c3d-f591-6d1862021334"
      },
      "source": [
        "canteen_menu.pop('fruits')"
      ],
      "execution_count": null,
      "outputs": [
        {
          "output_type": "execute_result",
          "data": {
            "text/plain": [
              "40"
            ]
          },
          "metadata": {
            "tags": []
          },
          "execution_count": 88
        }
      ]
    },
    {
      "cell_type": "code",
      "metadata": {
        "colab": {
          "base_uri": "https://localhost:8080/"
        },
        "id": "UtE5CY86Xgdv",
        "outputId": "6d06914a-3ea2-4262-8703-831da88f127c"
      },
      "source": [
        "print(canteen_menu)"
      ],
      "execution_count": null,
      "outputs": [
        {
          "output_type": "stream",
          "text": [
            "{'samosa': 10, 'pizza': 100, 'burger': 25, 'juice': {'S': 20, 'M': 40, 'L': 50}}\n"
          ],
          "name": "stdout"
        }
      ]
    },
    {
      "cell_type": "code",
      "metadata": {
        "id": "VggBWzdAXgbH"
      },
      "source": [
        ""
      ],
      "execution_count": null,
      "outputs": []
    },
    {
      "cell_type": "code",
      "metadata": {
        "id": "QWYBjMWJXgYs"
      },
      "source": [
        ""
      ],
      "execution_count": null,
      "outputs": []
    }
  ]
}